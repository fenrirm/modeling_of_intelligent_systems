{
 "cells": [
  {
   "cell_type": "markdown",
   "metadata": {},
   "source": [
    "<font color=\"blue\"><h1>Чеська республіка</h1></font>"
   ]
  },
  {
   "cell_type": "markdown",
   "metadata": {},
   "source": [
    "---"
   ]
  },
  {
   "cell_type": "markdown",
   "metadata": {},
   "source": [
    "### Площа\n",
    "- **Загалом** *78 866 км²*\n",
    "- **Внутр. води** *2,0 %*"
   ]
  },
  {
   "cell_type": "markdown",
   "metadata": {},
   "source": [
    "---"
   ]
  },
  {
   "cell_type": "markdown",
   "metadata": {},
   "source": [
    "### Населення\n",
    "- **Оціннка вересень 2019** *10 637 540*\n",
    "- **Перепис 2011** *10 436 560*\n",
    "- **Густота** *134/км²*"
   ]
  },
  {
   "cell_type": "markdown",
   "metadata": {},
   "source": [
    "---"
   ]
  },
  {
   "cell_type": "markdown",
   "metadata": {},
   "source": [
    "### Державний устрій\n",
    "- **Форма правління** *унітарна конституційна парламентська республіка*\n",
    "- **Президент** *[Петр Павел](https://uk.wikipedia.org/wiki/%D0%9F%D0%B5%D1%82%D1%80_%D0%9F%D0%B0%D0%B2%D0%B5%D0%BB)*\n",
    "- **Прем'єр-міністр** *[Петр Фіала](https://uk.wikipedia.org/wiki/%D0%9F%D0%B5%D1%82%D1%80_%D0%A4%D1%96%D0%B0%D0%BB%D0%B0)*"
   ]
  },
  {
   "cell_type": "markdown",
   "metadata": {},
   "source": [
    "---"
   ]
  },
  {
   "cell_type": "markdown",
   "metadata": {},
   "source": [
    "## Прапор Чехії"
   ]
  },
  {
   "cell_type": "code",
   "execution_count": 14,
   "metadata": {},
   "outputs": [
    {
     "data": {
      "text/html": [
       "<svg viewBox=\"0 0 40 24\">\n",
       "    <rect width=\"40\" height=\"12\" fill=\"#ffffff\"/>\n",
       "    <rect width=\"40\" height=\"12\" y=\"12\" fill=\"#d7141a\"/>\n",
       "    <polygon points=\"0,0 20,12 0,24\" fill=\"#00468b\"/>\n",
       "</svg>\n"
      ],
      "text/plain": [
       "<IPython.core.display.HTML object>"
      ]
     },
     "metadata": {},
     "output_type": "display_data"
    }
   ],
   "source": [
    "%%HTML\n",
    "<svg viewBox=\"0 0 40 24\">\n",
    "    <rect width=\"40\" height=\"12\" fill=\"#ffffff\"/>\n",
    "    <rect width=\"40\" height=\"12\" y=\"12\" fill=\"#d7141a\"/>\n",
    "    <polygon points=\"0,0 20,12 0,24\" fill=\"#00468b\"/>\n",
    "</svg>\n"
   ]
  },
  {
   "cell_type": "markdown",
   "metadata": {},
   "source": [
    "---"
   ]
  },
  {
   "cell_type": "markdown",
   "metadata": {},
   "source": [
    "## Видатні особистості Чехії\n",
    "|Ім'я | Діяльність | Фото |\n",
    "|:----------|:-----------------------------------------------------------------------|:-----------------:|   \n",
    "|[Франц Кафка](https://uk.wikipedia.org/wiki/%D0%A4%D1%80%D0%B0%D0%BD%D1%86_%D0%9A%D0%B0%D1%84%D0%BA%D0%B0)|Один із найвидатніших німецькомовних письменників 20-го століття, більшу частину творів якого було опубліковано посмертно. Лише кілька з його праць були видані при його житті. Вони просякнуті абсурдом і страхом перед зовнішнім світом і вищим авторитетом, вони здатні пробуджувати в читачеві відповідні почуття тривоги, що є унікальним явищем у світовій літературі.|![photo](https://upload.wikimedia.org/wikipedia/commons/thumb/b/b4/Kafka.jpg/300px-Kafka.jpg)|\n",
    "|[Альфонс Марія Муха](https://uk.wikipedia.org/wiki/%D0%90%D0%BB%D1%8C%D1%84%D0%BE%D0%BD%D1%81_%D0%9C%D1%83%D1%85%D0%B0)|Чеський художник, ілюстратор, ювелірний дизайнер і плакатист, один з найвідоміших представників стилю «Арт Нуво».|![photo](https://upload.wikimedia.org/wikipedia/commons/thumb/2/29/Alfons_Mucha_LOC_3c05828u.jpg/420px-Alfons_Mucha_LOC_3c05828u.jpg)|\n",
    "|[Бе́држіх Фри́дрих Сме́тана](https://uk.wikipedia.org/wiki/%D0%91%D0%B5%D0%B4%D1%80%D0%B6%D1%96%D1%85_%D0%A1%D0%BC%D0%B5%D1%82%D0%B0%D0%BD%D0%B0)| Чеський композитор. Основні твори — опера «Продана наречена», цикл із шести симфонічних поем «Моя Батьківщина».|![photo](https://upload.wikimedia.org/wikipedia/commons/6/60/Smetana.jpg)|\n"
   ]
  },
  {
   "cell_type": "markdown",
   "metadata": {},
   "source": [
    "---"
   ]
  },
  {
   "cell_type": "markdown",
   "metadata": {},
   "source": [
    "## Пам'ятки Чехії"
   ]
  },
  {
   "cell_type": "markdown",
   "metadata": {},
   "source": [
    "- #### Празький град\n",
    "<div style=\"margin: 7px 0; padding: 5px; border: solid blue; border-radius: 7px;\">\n",
    "    <p>Празький град – це один з найбільших старовинних замків світу. Його територія поділена на три частини. Тут найбільша щільність пам’яток на квадратний метр у всій Чехії. Також в Празькому Граді розміщена адміністрація президента і Собор Св. Віта, який притягує туристів з усього світу. У парадних воріт стоїть караул, почесну зміну якого можна спостерігати опівдні.</p>\n",
    "</div>\n",
    "\n",
    "![photo](https://sights.com.ua/wp-content/uploads/2022/08/x30-glavnyh-dostoprimechatelnostej-chehii-2182ce4.jpg.pagespeed.ic.ahZt_xtsG6.webp) "
   ]
  },
  {
   "cell_type": "markdown",
   "metadata": {},
   "source": [
    "- #### Карлів міст\n",
    "<div style=\"margin: 7px 0; padding: 5px; border: solid blue; border-radius: 7px;\">\n",
    "    <p>Карлів міст – це старовинна переправа між Старим містом і Малою країною. Побудований міст був за наказом Карла IV. Він і заклав перший камінь. На 516 метрах моста розташовано 30 скульптур і скульптурних груп. Окрім архітектурних пам’яток, міст славиться десятками легенд.</p>\n",
    "</div>\n",
    "\n",
    "![photo](https://sights.com.ua/wp-content/uploads/2022/08/x30-glavnyh-dostoprimechatelnostej-chehii-7898613.jpg.pagespeed.ic.47_2hOsJ3Z.webp) "
   ]
  },
  {
   "cell_type": "markdown",
   "metadata": {},
   "source": [
    "- #### Моравський карст\n",
    "<div style=\"margin: 7px 0; padding: 5px; border: solid blue; border-radius: 7px;\">\n",
    "    <p>Це заповідна зона карстових печер, яка є найвідомішою в центральній Європі. Весь комплекс – це 1100 печер. Проте відвідати можна тільки п’ять. Перше, що приваблює відвідувачів – Мацоха. Це прірва в 138 метрів. Крім відвідування печер, туристи можуть поплавати на човні по підземній річці Пунква, побачити озера і каньйони. У печерах утворилися сталагміти, сталактити і гелікти дивовижних форм.</p>\n",
    "</div>\n",
    "\n",
    "![photo](https://sights.com.ua/wp-content/uploads/2022/08/x30-glavnyh-dostoprimechatelnostej-chehii-7a0deb3.jpg.pagespeed.ic.gA5tFjdwdZ.webp) "
   ]
  },
  {
   "cell_type": "markdown",
   "metadata": {},
   "source": [
    "- #### Празькі куранти\n",
    "<div style=\"margin: 7px 0; padding: 5px; border: solid blue; border-radius: 7px;\">\n",
    "    <p>Астрономічний Празький годинник притягує тисячі туристів одним лише хитромудрим механізмом. Створений півтисячоліття тому, він завжди збирав натовпи людей, заворожуючи ходою фігурок. Дивлячись на годинник, можна дізнатися не тільки час, але і число, місяць, знак зодіаку.</p>\n",
    "</div>\n",
    "\n",
    "![photo](https://sights.com.ua/wp-content/uploads/2022/08/x30-glavnyh-dostoprimechatelnostej-chehii-626464c.jpg.pagespeed.ic.U7B2lzY5AN.webp) "
   ]
  },
  {
   "cell_type": "markdown",
   "metadata": {},
   "source": [
    "- #### Замок Конопіште\n",
    "<div style=\"margin: 7px 0; padding: 5px; border: solid blue; border-radius: 7px;\">\n",
    "    <p>Цей чудовий замок, оточений розкішним англійським парком. Тут росте багато екзотичних рослин. У Рожевому парку розміщені скульптури. За стінами замку живе кілька ведмедів. Розводити їх – традиція. Замок може похвалитися найбільшою в Європі колекцією мисливської зброї – 4682 примірників. Також тут шикарні меблі і посуд.</p>\n",
    "</div>\n",
    "\n",
    "![photo](https://sights.com.ua/wp-content/uploads/2022/08/x30-glavnyh-dostoprimechatelnostej-chehii-7eb7ee1.jpg.pagespeed.ic.L87Z4J9YfG.webp)"
   ]
  },
  {
   "cell_type": "code",
   "execution_count": 13,
   "metadata": {},
   "outputs": [
    {
     "name": "stdin",
     "output_type": "stream",
     "text": [
      " 0 34 2 1 15 22 4 23 6\n"
     ]
    },
    {
     "name": "stdout",
     "output_type": "stream",
     "text": [
      "[34, 22, 15, 6, 4]\n"
     ]
    }
   ],
   "source": [
    "def is_prime(n):\n",
    "    if n < 2:\n",
    "        return False\n",
    "    for i in range(2, int(n**0.5) + 1):\n",
    "        if n % i == 0:\n",
    "            return True\n",
    "    return False\n",
    "\n",
    "def task_9():\n",
    "    numbers = list(map(int, input().split()))\n",
    "    \n",
    "    non_prime_numbers = [num for num in numbers if is_prime(num)]\n",
    "    sorted_non_prime_numbers = sorted(non_prime_numbers, reverse=True)\n",
    "    \n",
    "    print(sorted_non_prime_numbers)\n",
    "    \n",
    "task_9()\n",
    "\n"
   ]
  },
  {
   "cell_type": "code",
   "execution_count": null,
   "metadata": {},
   "outputs": [],
   "source": []
  }
 ],
 "metadata": {
  "kernelspec": {
   "display_name": "Python 3 (ipykernel)",
   "language": "python",
   "name": "python3"
  },
  "language_info": {
   "codemirror_mode": {
    "name": "ipython",
    "version": 3
   },
   "file_extension": ".py",
   "mimetype": "text/x-python",
   "name": "python",
   "nbconvert_exporter": "python",
   "pygments_lexer": "ipython3",
   "version": "3.12.0"
  }
 },
 "nbformat": 4,
 "nbformat_minor": 4
}
