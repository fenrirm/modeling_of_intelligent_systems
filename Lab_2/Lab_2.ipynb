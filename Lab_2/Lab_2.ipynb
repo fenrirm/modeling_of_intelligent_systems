{
 "cells": [
  {
   "cell_type": "markdown",
   "id": "3bcb37bb-f20d-452d-ac6c-a36c8622c0c5",
   "metadata": {},
   "source": [
    "## Task 1 (Var 9)(1, 2, 4, 7, 8, 12, 15, 16, 20)"
   ]
  },
  {
   "cell_type": "markdown",
   "id": "662cf0d0-2f9a-45e1-9595-24b7309fed57",
   "metadata": {},
   "source": [
    "### Виконати набір вправ. Всі завдання виконати 2 способами:\n",
    "- з використанням універсальних функцій бібліотеки NumPy.\n",
    "- за допомогою ітеративних конструкцій(з використанням циклів, спискових включень тощо).\n",
    "- для обох випадків підрахувати час виконання скрипту та зробити висновки."
   ]
  },
  {
   "cell_type": "code",
   "execution_count": 2,
   "id": "7b509e20-46e7-4373-b2ea-ef469e9bc7c4",
   "metadata": {},
   "outputs": [],
   "source": [
    "import math\n",
    "import random\n",
    "import numpy as np"
   ]
  },
  {
   "cell_type": "markdown",
   "id": "3052d3a5-dc14-4191-8c2d-ae83fc93c740",
   "metadata": {},
   "source": [
    "#### №1 Вводиться число n. Вивести масив розміру n×n, в якому по діагоналі йдуть числа від 1 до n, а інші числа дорівнюють 0.."
   ]
  },
  {
   "cell_type": "markdown",
   "id": "4c95e5d5-52a1-4411-81f2-9db71bd14d31",
   "metadata": {},
   "source": [
    "*NumPy version:*"
   ]
  },
  {
   "cell_type": "code",
   "execution_count": 3,
   "id": "27361ffe-3067-4c88-accf-fc5cfa21fcf6",
   "metadata": {},
   "outputs": [
    {
     "name": "stdout",
     "output_type": "stream",
     "text": [
      "14.2 µs ± 4.72 µs per loop (mean ± std. dev. of 10 runs, 100 loops each)\n"
     ]
    }
   ],
   "source": [
    "%%timeit -n 100 -r 10\n",
    "\n",
    "def task_1(n):\n",
    "    matrix = np.zeros((n, n))\n",
    "    np.fill_diagonal(matrix, np.arange(1, n+1))\n",
    "    return matrix\n",
    "    \n",
    "task_1(100)\n"
   ]
  },
  {
   "cell_type": "markdown",
   "id": "79774e47-871a-4324-9c08-a9551af1bc66",
   "metadata": {},
   "source": [
    "*Iterative version:*"
   ]
  },
  {
   "cell_type": "code",
   "execution_count": 4,
   "id": "7fc5055a-3337-405c-92ca-ce7b29ba2221",
   "metadata": {},
   "outputs": [
    {
     "name": "stdout",
     "output_type": "stream",
     "text": [
      "591 µs ± 50.5 µs per loop (mean ± std. dev. of 10 runs, 100 loops each)\n"
     ]
    }
   ],
   "source": [
    "%%timeit -n 100 -r 10\n",
    "\n",
    "def task_1(n):\n",
    "    matrix = []\n",
    "    for i in range(n):\n",
    "        list = []\n",
    "        for j in range(n):\n",
    "            list.append(i + 1 if i == j else 0)\n",
    "        matrix.append(list)\n",
    "    return matrix\n",
    "    \n",
    "    \n",
    "task_1(100)"
   ]
  },
  {
   "cell_type": "markdown",
   "id": "521e3875-0870-4f42-84f3-b9f18e495805",
   "metadata": {},
   "source": [
    "#### №2 Вводиться число n. Розставити 1 та 0 у шаховому порядку, починаючи з 1 в матриці, розміром nxn, використовуючи слайсінг."
   ]
  },
  {
   "cell_type": "markdown",
   "id": "271c5be1-7d1a-4159-b0d4-0d2e9597e3ce",
   "metadata": {},
   "source": [
    "*NumPy version:*"
   ]
  },
  {
   "cell_type": "code",
   "execution_count": 5,
   "id": "333bcdd8-de40-42e6-a88d-f5788b71fbf9",
   "metadata": {},
   "outputs": [
    {
     "name": "stdout",
     "output_type": "stream",
     "text": [
      "13.8 µs ± 3.37 µs per loop (mean ± std. dev. of 10 runs, 100 loops each)\n"
     ]
    }
   ],
   "source": [
    "%%timeit -n 100 -r 10\n",
    "\n",
    "def task_2(n):\n",
    "    matrix = np.zeros((n, n), dtype=int)\n",
    "    matrix[1::2, ::2] = 1\n",
    "    matrix[::2, 1::2] = 1\n",
    "    return matrix\n",
    "    \n",
    "task_2(100)"
   ]
  },
  {
   "cell_type": "markdown",
   "id": "78ec7a26-e66d-4f42-928f-16a7c0646344",
   "metadata": {},
   "source": [
    "*Iterative version:*"
   ]
  },
  {
   "cell_type": "code",
   "execution_count": 6,
   "id": "ab36a646-6f50-4907-aa86-98df46d87d7a",
   "metadata": {},
   "outputs": [
    {
     "name": "stdout",
     "output_type": "stream",
     "text": [
      "20.2 µs ± 2.49 µs per loop (mean ± std. dev. of 10 runs, 100 loops each)\n"
     ]
    }
   ],
   "source": [
    "%%timeit -n 100 -r 10\n",
    "\n",
    "def task_2(n):\n",
    "    matrix = [[1 if (i+j) % 2 == 0 else 0 for j in range(n)] for i in range(n)]\n",
    "    return matrix\n",
    "    \n",
    "task_2(10)"
   ]
  },
  {
   "cell_type": "markdown",
   "id": "88c83125-7445-4f52-a1fe-b61d9c820dd8",
   "metadata": {},
   "source": [
    "#### №4 Вводяться числа n і  m. Вивести масив розміру nхm, в якому у першому рядку (рядок з нулевим індексом) йдуть числа від 0 до m-1. а всі інші елементи матриці дорівнюють 0."
   ]
  },
  {
   "cell_type": "markdown",
   "id": "c5302767-7dac-4d98-a18f-376f4e2f566d",
   "metadata": {},
   "source": [
    "*NumPy version:*"
   ]
  },
  {
   "cell_type": "code",
   "execution_count": 13,
   "id": "b5ff7a19-08d1-47ce-8a07-c4db97c3951a",
   "metadata": {},
   "outputs": [
    {
     "name": "stdout",
     "output_type": "stream",
     "text": [
      "2.7 µs ± 1.25 µs per loop (mean ± std. dev. of 10 runs, 100 loops each)\n"
     ]
    }
   ],
   "source": [
    "%%timeit -n 100 -r 10\n",
    "\n",
    "def task_4(n, m):\n",
    "    matrix = np.zeros((n, m), dtype=int)\n",
    "    matrix[0, :] = np.arange(m)\n",
    "    return matrix\n",
    "    \n",
    "task_4(5, 10)"
   ]
  },
  {
   "cell_type": "markdown",
   "id": "1433ac1a-fadc-4bbd-9439-d6de3e44a336",
   "metadata": {},
   "source": [
    "*Iterative version*"
   ]
  },
  {
   "cell_type": "code",
   "execution_count": 12,
   "id": "6c9fc973-490d-4876-b1f3-2b7c48def624",
   "metadata": {},
   "outputs": [
    {
     "name": "stdout",
     "output_type": "stream",
     "text": [
      "3.67 µs ± 190 ns per loop (mean ± std. dev. of 10 runs, 100 loops each)\n"
     ]
    }
   ],
   "source": [
    "%%timeit -n 100 -r 10\n",
    "\n",
    "def task_4(n, m):\n",
    "    matrix = [[j if i == 0 else 0\n",
    "               for j in range(m)] \n",
    "                     for i in range(n)]\n",
    "    return matrix\n",
    "    \n",
    "task_4(5, 10)"
   ]
  },
  {
   "cell_type": "markdown",
   "id": "b8904f20-666a-45da-8704-04111c99510b",
   "metadata": {},
   "source": [
    "#### №7 З клавіатури вводиться масив заміни всі нульові елементи на -1."
   ]
  },
  {
   "cell_type": "markdown",
   "id": "9c168be4-3f72-484d-ade8-68feca0a9144",
   "metadata": {},
   "source": [
    "*NumPy version:*"
   ]
  },
  {
   "cell_type": "code",
   "execution_count": 14,
   "id": "0b5a4dd5-a5fd-4a48-b28b-cf647d1de7cb",
   "metadata": {},
   "outputs": [
    {
     "name": "stdout",
     "output_type": "stream",
     "text": [
      "5 µs ± 132 ns per loop (mean ± std. dev. of 10 runs, 100 loops each)\n"
     ]
    }
   ],
   "source": [
    "%%timeit -n 100 -r 10\n",
    "\n",
    "def task_7(input_array):\n",
    "    arr = np.array(input_array)\n",
    "    arr[arr == 0] = -1\n",
    "    return arr\n",
    "    \n",
    "task_7([0, 0, 0, 0, 0, 0, 0, 0, 5, 0, 0, 0, 0, 0, 0, 0, 0, 5, 5, 0, 0, 0, 0, 0, 5, 0, 0, 0, 0, 0, 0, 0, 0, 5, 0, 0, 0, 0, 0])"
   ]
  },
  {
   "cell_type": "markdown",
   "id": "9cf884ac-5dd9-4b84-a94a-59d3be996485",
   "metadata": {},
   "source": [
    "*Iterative version*"
   ]
  },
  {
   "cell_type": "code",
   "execution_count": 15,
   "id": "4e59d9c8-dbcf-48cb-a85e-4de182d1dedc",
   "metadata": {},
   "outputs": [
    {
     "name": "stdout",
     "output_type": "stream",
     "text": [
      "4.5 µs ± 279 ns per loop (mean ± std. dev. of 10 runs, 100 loops each)\n"
     ]
    }
   ],
   "source": [
    "%%timeit -n 100 -r 10\n",
    "\n",
    "def task_7(input_array):\n",
    "    for i in range(len(input_array)):\n",
    "        if input_array[i] == 0:\n",
    "            input_array[i] = -1\n",
    "    return input_array\n",
    "    \n",
    "task_7([0, 0, 0, 0, 0, 0, 0, 0, 5, 0, 0, 0, 0, 0, 0, 0, 0, 5, 5, 0, 0, 0, 0, 0, 5, 0, 0, 0, 0, 0, 0, 0, 0, 5, 0, 0, 0, 0, 0])"
   ]
  },
  {
   "cell_type": "markdown",
   "id": "8c50768b-4ca6-4be5-90b3-bd3a724a9ba1",
   "metadata": {},
   "source": [
    "#### №8 З клавіатури вводиться масив. Підрахувати в ньому кількість нульових та ненульових елементів.."
   ]
  },
  {
   "cell_type": "markdown",
   "id": "fae1039d-1d33-49b5-856e-f6138724b73f",
   "metadata": {},
   "source": [
    "*NumPy version*"
   ]
  },
  {
   "cell_type": "code",
   "execution_count": 11,
   "id": "11abc331-e9fc-438e-ae03-40cf41e5bcdb",
   "metadata": {},
   "outputs": [
    {
     "name": "stdout",
     "output_type": "stream",
     "text": [
      "5.47 µs ± 938 ns per loop (mean ± std. dev. of 10 runs, 100 loops each)\n"
     ]
    }
   ],
   "source": [
    "%%timeit -n 100 -r 10\n",
    "\n",
    "def task_8(input_array):\n",
    "    arr = np.array(input_array)\n",
    "    zeros = len(arr[arr == 0])\n",
    "    return zeros, len(arr) - zeros\n",
    "\n",
    "task_8([0, 0, 0, 0, 0, 0, 0, 0, 5, 0, 0, 0, 0, 0, 0, 0, 0, 5, 5, 0, 0, 0, 0, 0, 5, 0, 0, 0, 0, 0, 0, 0, 0, 5, 0, 0, 0, 0, 0])"
   ]
  },
  {
   "cell_type": "markdown",
   "id": "f64074c5-166b-407f-a713-8f0d14930525",
   "metadata": {},
   "source": [
    "*Iterative version*"
   ]
  },
  {
   "cell_type": "code",
   "execution_count": 16,
   "id": "e99e9197-78e2-4a67-8d64-f3c8baf3a620",
   "metadata": {},
   "outputs": [
    {
     "name": "stdout",
     "output_type": "stream",
     "text": [
      "4.33 µs ± 517 ns per loop (mean ± std. dev. of 10 runs, 100 loops each)\n"
     ]
    }
   ],
   "source": [
    "%%timeit -n 100 -r 10\n",
    "\n",
    "def task_8(input_array):\n",
    "    zeros = 0\n",
    "    for i in range(len(input_array)):\n",
    "        if input_array[i] == 0:\n",
    "            zeros += 1\n",
    "    return zeros, len(input_array) - zeros\n",
    "\n",
    "task_8([0, 0, 0, 0, 0, 0, 0, 0, 5, 0, 0, 0, 0, 0, 0, 0, 0, 5, 5, 0, 0, 0, 0, 0, 5, 0, 0, 0, 0, 0, 0, 0, 0, 5, 0, 0, 0, 0, 0])"
   ]
  },
  {
   "cell_type": "markdown",
   "id": "d74904bf-1002-40db-9c6c-6a1201b32ce7",
   "metadata": {},
   "source": [
    "#### №12 Створити масив одиниць розміром n×n та створити в ньому «рамку», що утворюється з 0.."
   ]
  },
  {
   "cell_type": "markdown",
   "id": "595b535b-d4d2-4212-b593-14cb34032cb1",
   "metadata": {},
   "source": [
    "*NumPy version*"
   ]
  },
  {
   "cell_type": "code",
   "execution_count": 27,
   "id": "cd0f9d3e-8142-4216-8774-9c068ab59671",
   "metadata": {},
   "outputs": [
    {
     "name": "stdout",
     "output_type": "stream",
     "text": [
      "1.49 µs ± 366 ns per loop (mean ± std. dev. of 10 runs, 100 loops each)\n"
     ]
    }
   ],
   "source": [
    "%%timeit -n 100 -r 10\n",
    "\n",
    "def task_12(n):\n",
    "    matrix = np.zeros((n, n), dtype=int)\n",
    "    matrix[1:-1, 1:-1] = 1\n",
    "    return matrix\n",
    "\n",
    "task_12(10)"
   ]
  },
  {
   "cell_type": "markdown",
   "id": "36930bca-1db5-45da-81b1-677ea629a72e",
   "metadata": {},
   "source": [
    "*Iterative version*"
   ]
  },
  {
   "cell_type": "code",
   "execution_count": 28,
   "id": "a31ff368-7b89-44d7-9130-a324ca1ee1bb",
   "metadata": {},
   "outputs": [
    {
     "name": "stdout",
     "output_type": "stream",
     "text": [
      "5.23 µs ± 318 ns per loop (mean ± std. dev. of 10 runs, 100 loops each)\n"
     ]
    }
   ],
   "source": [
    "%%timeit -n 100 -r 10\n",
    "\n",
    "def task_12(n):\n",
    "    matrix = [[0]* n for i in range(n)]\n",
    "    for i in range(1, n-1):\n",
    "        for j in range(1, n-1):\n",
    "            matrix[i][j] = 1\n",
    "    return matrix\n",
    "    \n",
    "task_12(10)"
   ]
  },
  {
   "cell_type": "markdown",
   "id": "5ba4a1bf-3f50-46c0-a93f-48e1e6686ede",
   "metadata": {},
   "source": [
    "#### №15 Заповнити парні стовпчикі матриці розміром n×n одиницями, а непарні – нулями.."
   ]
  },
  {
   "cell_type": "markdown",
   "id": "f0e51c19-fb1d-4c84-9aec-10deae079304",
   "metadata": {},
   "source": [
    "*NumPy version*"
   ]
  },
  {
   "cell_type": "code",
   "execution_count": 30,
   "id": "351cffa1-27ea-416e-9ffa-48b42a66e3ee",
   "metadata": {},
   "outputs": [
    {
     "name": "stdout",
     "output_type": "stream",
     "text": [
      "1.28 µs ± 71 ns per loop (mean ± std. dev. of 10 runs, 100 loops each)\n"
     ]
    }
   ],
   "source": [
    "%%timeit -n 100 -r 10\n",
    "\n",
    "def task_15(n):\n",
    "    matrix = np.zeros((n, n), dtype=int)\n",
    "    matrix[:, 1::2] = 1\n",
    "    return matrix\n",
    "\n",
    "task_15(10)"
   ]
  },
  {
   "cell_type": "markdown",
   "id": "0a5071b2-ae5a-4c91-9d01-a75155ab28a5",
   "metadata": {},
   "source": [
    "*Iterative version*"
   ]
  },
  {
   "cell_type": "code",
   "execution_count": 32,
   "id": "d7fa1ce7-3a3b-4a36-a88f-0fb83f9b0468",
   "metadata": {},
   "outputs": [
    {
     "name": "stdout",
     "output_type": "stream",
     "text": [
      "5.44 µs ± 151 ns per loop (mean ± std. dev. of 10 runs, 100 loops each)\n"
     ]
    }
   ],
   "source": [
    "%%timeit -n 100 -r 10\n",
    "\n",
    "def task_15(n):\n",
    "    matrix = [[0] * n for i in range(n)]\n",
    "    for i in range(n):\n",
    "        for j in range(1, n, 2):\n",
    "            matrix[i][j] = 1\n",
    "    return matrix\n",
    "\n",
    "task_15(10)"
   ]
  },
  {
   "cell_type": "markdown",
   "id": "0fbbedcf-3884-4c29-a416-2870d2c4e8a3",
   "metadata": {},
   "source": [
    "#### №16 Заповнити вектор значеннями від 0 до n. Всі значення, що більші за n/4 та менші за 3n/4 замінити нулями.."
   ]
  },
  {
   "cell_type": "markdown",
   "id": "808b3777-9ddf-4040-9a43-f55465169236",
   "metadata": {},
   "source": [
    "*NumPy version*"
   ]
  },
  {
   "cell_type": "code",
   "execution_count": 33,
   "id": "b914df4a-627f-4b40-a614-e9382fd2ce7b",
   "metadata": {},
   "outputs": [
    {
     "name": "stdout",
     "output_type": "stream",
     "text": [
      "12.1 µs ± 3.79 µs per loop (mean ± std. dev. of 10 runs, 100 loops each)\n"
     ]
    }
   ],
   "source": [
    "%%timeit -n 100 -r 10\n",
    "\n",
    "def task_16(n):\n",
    "    array = np.arange(n+1)\n",
    "    array[(array > n/4) & (array < 3*n/4)] = 0\n",
    "    return array\n",
    "\n",
    "task_16(10)"
   ]
  },
  {
   "cell_type": "markdown",
   "id": "6bfcd146-a8b2-4cb8-bdee-524754806b93",
   "metadata": {},
   "source": [
    "*Iterative version*"
   ]
  },
  {
   "cell_type": "code",
   "execution_count": 34,
   "id": "aa4da538-cd3c-4d11-98ab-6938d38aadb6",
   "metadata": {},
   "outputs": [
    {
     "name": "stdout",
     "output_type": "stream",
     "text": [
      "3.55 µs ± 1.04 µs per loop (mean ± std. dev. of 10 runs, 100 loops each)\n"
     ]
    }
   ],
   "source": [
    "%%timeit -n 100 -r 10\n",
    "\n",
    "def task_16(n):\n",
    "    array = []\n",
    "    for i in range(n + 1):\n",
    "        array.append(i)\n",
    "    for i in range(n + 1):\n",
    "        array[i] = 0 if (array[i] > n/4) and (array[i] < 3*n/4) else array[i]\n",
    "    return array\n",
    "\n",
    "task_16(10)"
   ]
  },
  {
   "cell_type": "markdown",
   "id": "9acb022a-b882-4f20-ac45-778e3a8d01df",
   "metadata": {},
   "source": [
    "#### №20 Згенерувати вектор із n випадкових елементів, що лежать в інтервалі (0,1). Замінити максимальний елемент на 0.."
   ]
  },
  {
   "cell_type": "markdown",
   "id": "527c756a-f64e-44f6-9924-ddf525913dcf",
   "metadata": {},
   "source": [
    "*NumPy version*"
   ]
  },
  {
   "cell_type": "code",
   "execution_count": 39,
   "id": "467f9edf-ac6f-4b1e-8381-a449442fdb12",
   "metadata": {},
   "outputs": [
    {
     "name": "stdout",
     "output_type": "stream",
     "text": [
      "2.52 µs ± 1.07 µs per loop (mean ± std. dev. of 10 runs, 100 loops each)\n"
     ]
    }
   ],
   "source": [
    "%%timeit -n 100 -r 10\n",
    "\n",
    "def task_20(n):\n",
    "    vector = np.random.rand(n)\n",
    "    vector[vector.argmax()] = 0\n",
    "    return vector\n",
    "\n",
    "task_20(10)"
   ]
  },
  {
   "cell_type": "markdown",
   "id": "d30af3f3-3d36-49dd-8160-0626d162da8a",
   "metadata": {},
   "source": [
    "*Iterative version*"
   ]
  },
  {
   "cell_type": "code",
   "execution_count": 41,
   "id": "d1a2dd98-0591-4dce-a9c7-c47c3f118c0e",
   "metadata": {},
   "outputs": [
    {
     "name": "stdout",
     "output_type": "stream",
     "text": [
      "3.47 µs ± 505 ns per loop (mean ± std. dev. of 10 runs, 100 loops each)\n"
     ]
    }
   ],
   "source": [
    "%%timeit -n 100 -r 10\n",
    "\n",
    "def task_20(n):\n",
    "    vector = [random.uniform(0,1) for i in range(n)]\n",
    "    max_index = 0\n",
    "    for i in range(1, n):\n",
    "        if vector[i] > vector[max_index]:\n",
    "            max_index = 1\n",
    "    vector[max_index] = 0\n",
    "    return vector\n",
    "\n",
    "task_20(10)"
   ]
  },
  {
   "cell_type": "markdown",
   "id": "c72fd1e5-82db-40c2-ad95-84781dd285ed",
   "metadata": {},
   "source": [
    "## Task 2 Розв’язати систему алгебраїчних рівнянь за допомогою формул Крамера і виконати перевірку за допомогою:\n",
    "- матричного множення;\n",
    "- оберненої матриці;\n",
    "- функції numpy.linalg.solve().\n",
    "### Порівняти всі рішення за допомогою функції numpy.allclose().:"
   ]
  },
  {
   "cell_type": "markdown",
   "id": "b9252c52-d0c4-45f2-a10e-5d2db2e029c3",
   "metadata": {},
   "source": [
    "$$\n",
    "\\begin{cases}\n",
    "x_1 + 2x_2 + x_3 + x_4 = 8 \n",
    "\\\\\n",
    "2x_1 + x_2 + x_3 + x_4 = 5\n",
    "\\\\\n",
    "x_1 - x_2 + 2x_3 + x_4 = -1\n",
    "\\\\\n",
    "x_1 + x_2 - x_3 + 3x_4 = 10\n",
    "\\end{cases}\n",
    "$$$$\r\n",
    "$$\r\n"
   ]
  },
  {
   "cell_type": "markdown",
   "id": "3cce0b73-a6e8-4eb9-8b4f-54746a5a6edc",
   "metadata": {},
   "source": [
    "*Розв'язок*"
   ]
  },
  {
   "cell_type": "code",
   "execution_count": 47,
   "id": "1a9b13d8-2275-4548-b115-5c2c108dc0f1",
   "metadata": {},
   "outputs": [
    {
     "data": {
      "text/plain": [
       "array([-0.05263158,  2.94736842, -0.15789474,  2.31578947])"
      ]
     },
     "execution_count": 47,
     "metadata": {},
     "output_type": "execute_result"
    }
   ],
   "source": [
    "A = np.array([\n",
    "    [1, 2, 1, 1],\n",
    "    [2, 1, 1, 1],\n",
    "    [1, -1, 2, 1],\n",
    "    [1, 1, -1, 3]\n",
    "])\n",
    "\n",
    "B = np.array([8, 5, -1, 10])\n",
    "\n",
    "def solve_system(A, B):\n",
    "    det_A = np.linalg.det(A)\n",
    "    \n",
    "    if det_A == 0:\n",
    "        raise ValueError(\"Система рівнянь має або нескінченну кількість розв'язків, або не має розв'язків.\")\n",
    "    \n",
    "    result = np.zeros_like(B, dtype=float)\n",
    "    \n",
    "    for i in range(len(B)):\n",
    "        Ai = A.copy()\n",
    "        Ai[:, i] = B\n",
    "        \n",
    "        det_Ai = np.linalg.det(Ai)\n",
    "        \n",
    "        result[i] = det_Ai / det_A\n",
    "    \n",
    "    return result\n",
    "\n",
    "solve_system(A, B)\n"
   ]
  },
  {
   "cell_type": "markdown",
   "id": "a72916ef-3752-4b22-a71b-7b8c93b4f658",
   "metadata": {},
   "source": [
    "*Перевірка за допомогою матричного множення*"
   ]
  },
  {
   "cell_type": "code",
   "execution_count": 49,
   "id": "4d4a51a9-becf-43a5-bbb0-29f3210c08b1",
   "metadata": {},
   "outputs": [
    {
     "name": "stdout",
     "output_type": "stream",
     "text": [
      "Матричний добуток A * x: [ 7.99999999  4.99999999 -1.00000001  9.99999999]\n",
      "Вектор B: [ 8  5 -1 10]\n",
      "Розв'язок вірний.\n"
     ]
    }
   ],
   "source": [
    "def check_solution(A, B, solution):\n",
    "    result = np.dot(A, solution)\n",
    "\n",
    "    print(\"Матричний добуток A * x:\", result)\n",
    "    print(\"Вектор B:\", B)\n",
    "\n",
    "    if np.allclose(result, B):\n",
    "        print(\"Розв'язок вірний.\")\n",
    "    else:\n",
    "        print(\"Розв'язок невірний.\")\n",
    "\n",
    "A = np.array([\n",
    "    [1, 2, 1, 1],\n",
    "    [2, 1, 1, 1],\n",
    "    [1, -1, 2, 1],\n",
    "    [1, 1, -1, 3]\n",
    "])\n",
    "\n",
    "B = np.array([8, 5, -1, 10])\n",
    "\n",
    "solution = np.array([-0.05263158,  2.94736842, -0.15789474,  2.31578947])\n",
    "\n",
    "check_solution(A, B, solution)"
   ]
  },
  {
   "cell_type": "markdown",
   "id": "87f8ca64-e631-4321-9a7a-93cea751fa67",
   "metadata": {},
   "source": [
    "*Перевірка за допомогою оберненої матриці*"
   ]
  },
  {
   "cell_type": "code",
   "execution_count": 50,
   "id": "51aa6e2a-95d5-4f03-bce3-b543448c9894",
   "metadata": {},
   "outputs": [
    {
     "name": "stdout",
     "output_type": "stream",
     "text": [
      "Матричний добуток A_inv * B: [-0.05263158  2.94736842 -0.15789474  2.31578947]\n",
      "Вектор розв'язку: [-0.05263158  2.94736842 -0.15789474  2.31578947]\n",
      "Розв'язок вірний.\n"
     ]
    }
   ],
   "source": [
    "def check_solution_inverse(A, B, solution):\n",
    "    A_inv = np.linalg.inv(A)\n",
    "\n",
    "    result = np.dot(A_inv, B)\n",
    "    \n",
    "    print(\"Матричний добуток A_inv * B:\", result)\n",
    "    print(\"Вектор розв'язку:\", solution)\n",
    "\n",
    "    if np.allclose(result, solution):\n",
    "        print(\"Розв'язок вірний.\")\n",
    "    else:\n",
    "        print(\"Розв'язок невірний.\")\n",
    "        \n",
    "A = np.array([\n",
    "    [1, 2, 1, 1],\n",
    "    [2, 1, 1, 1],\n",
    "    [1, -1, 2, 1],\n",
    "    [1, 1, -1, 3]\n",
    "])\n",
    "B = np.array([8, 5, -1, 10])\n",
    "solution = np.array([-0.05263158,  2.94736842, -0.15789474,  2.31578947])\n",
    "\n",
    "check_solution_inverse(A, B, solution)"
   ]
  },
  {
   "cell_type": "markdown",
   "id": "a9da816e-8334-4159-9e58-a41a04d0de39",
   "metadata": {},
   "source": [
    "*Перевірка за допомогою функції numpy.linalg.solve()*"
   ]
  },
  {
   "cell_type": "code",
   "execution_count": 51,
   "id": "2c09c8ee-aa8c-406b-9021-b90d0e96166e",
   "metadata": {},
   "outputs": [
    {
     "name": "stdout",
     "output_type": "stream",
     "text": [
      "Розв'язок за допомогою numpy.linalg.solve(): [-0.05263158  2.94736842 -0.15789474  2.31578947]\n",
      "Вектор розв'язку: [-0.05263158  2.94736842 -0.15789474  2.31578947]\n",
      "Розв'язок вірний.\n"
     ]
    }
   ],
   "source": [
    "import numpy as np\n",
    "\n",
    "def check_solution_np_solve(A, B, solution):\n",
    "    result = np.linalg.solve(A, B)\n",
    "    \n",
    "    print(\"Розв'язок за допомогою numpy.linalg.solve():\", result)\n",
    "    print(\"Вектор розв'язку:\", solution)\n",
    "\n",
    "    if np.allclose(result, solution):\n",
    "        print(\"Розв'язок вірний.\")\n",
    "    else:\n",
    "        print(\"Розв'язок невірний.\")\n",
    "\n",
    "A = np.array([\n",
    "    [1, 2, 1, 1],\n",
    "    [2, 1, 1, 1],\n",
    "    [1, -1, 2, 1],\n",
    "    [1, 1, -1, 3]\n",
    "])\n",
    "\n",
    "B = np.array([8, 5, -1, 10])\n",
    "\n",
    "solution = np.array([-0.05263158,  2.94736842, -0.15789474,  2.31578947])\n",
    "\n",
    "check_solution_np_solve(A, B, solution)"
   ]
  },
  {
   "cell_type": "markdown",
   "id": "34f46688-2170-429a-8ac5-ae549ff7dd80",
   "metadata": {},
   "source": [
    "## Task 3 Обчислити значення матричного виразу\n",
    "- з використанням універсальних функцій бібліотеки NumPy;\n",
    "- за допомогою ітеративних конструкцій(з використанням циклів, спискових включень тощо);\n",
    "- для обох випадків підрахувати час виконання скрипту та зробити висновки."
   ]
  },
  {
   "cell_type": "markdown",
   "id": "c9401ad7-90ed-4312-b132-08108e4f189a",
   "metadata": {},
   "source": [
    "$$\n",
    "2A - (A^2 + B)B,\\\\\n",
    "A =\n",
    "\\begin{pmatrix}\n",
    "    1 & 4 & 2 \\\\\n",
    "    2 & 1 & -2 \\\\\n",
    "    0 & 1 & -1 \\\\\n",
    "\\end{pmatrix}\n",
    "B = \n",
    "\\begin{pmatrix}\n",
    "    4 & 6 & -2 \\\\\n",
    "    4 & 10 & 1 \\\\\n",
    "    2 & 4 & -5 \\\\\n",
    "\\end{pmatrix}\n",
    "$$"
   ]
  },
  {
   "cell_type": "markdown",
   "id": "bda5bd23-53c3-405f-b131-100b951ee189",
   "metadata": {},
   "source": [
    "*NumPy version*"
   ]
  },
  {
   "cell_type": "code",
   "execution_count": 56,
   "id": "2f406e95-d72b-4d80-a34e-96181d2700e5",
   "metadata": {},
   "outputs": [
    {
     "name": "stdout",
     "output_type": "stream",
     "text": [
      "6.8 µs ± 482 ns per loop (mean ± std. dev. of 10 runs, 100 loops each)\n"
     ]
    }
   ],
   "source": [
    "%%timeit -n 100 -r 10\n",
    "\n",
    "def calculate_expression(A, B):\n",
    "    result = 2 * A - (A**2 + B)*B\n",
    "    return result\n",
    "\n",
    "A = np.array([\n",
    "    [1, 4, 2],\n",
    "    [2, 1, -2],\n",
    "    [0, 1, -1]\n",
    "])\n",
    "\n",
    "B = np.array([\n",
    "    [4, 6, -2],\n",
    "    [4, 10, 1],\n",
    "    [2, 4, -5]\n",
    "])\n",
    "\n",
    "calculate_expression(A,B)"
   ]
  },
  {
   "cell_type": "markdown",
   "id": "6c7ad24a-270d-4ce4-ab30-b341f6f46aa3",
   "metadata": {},
   "source": [
    "*Iterative version*"
   ]
  },
  {
   "cell_type": "code",
   "execution_count": 58,
   "id": "c251745c-1b35-4adf-a698-11053eabc9cc",
   "metadata": {},
   "outputs": [
    {
     "name": "stdout",
     "output_type": "stream",
     "text": [
      "15.2 µs ± 575 ns per loop (mean ± std. dev. of 10 runs, 100 loops each)\n"
     ]
    }
   ],
   "source": [
    "%%timeit -n 100 -r 10\n",
    "\n",
    "def calculate_expression_iterative(A, B):\n",
    "    m, n = A.shape\n",
    "    result = np.zeros((m, n))\n",
    "    for i in range(m):\n",
    "        for j in range(n):\n",
    "            result[i, j] = 2 * A[i, j] - (A[i, j]**2 + B[i, j]) * B[i, j]\n",
    "    return result\n",
    "\n",
    "A = np.array([\n",
    "    [1, 4, 2],\n",
    "    [2, 1, -2],\n",
    "    [0, 1, -1]\n",
    "])\n",
    "\n",
    "B = np.array([\n",
    "    [4, 6, -2],\n",
    "    [4, 10, 1],\n",
    "    [2, 4, -5]\n",
    "])\n",
    "\n",
    "calculate_expression_iterative(A,B)"
   ]
  }
 ],
 "metadata": {
  "kernelspec": {
   "display_name": "Python 3 (ipykernel)",
   "language": "python",
   "name": "python3"
  },
  "language_info": {
   "codemirror_mode": {
    "name": "ipython",
    "version": 3
   },
   "file_extension": ".py",
   "mimetype": "text/x-python",
   "name": "python",
   "nbconvert_exporter": "python",
   "pygments_lexer": "ipython3",
   "version": "3.12.0"
  }
 },
 "nbformat": 4,
 "nbformat_minor": 5
}
